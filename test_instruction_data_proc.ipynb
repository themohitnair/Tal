{
 "cells": [
  {
   "cell_type": "code",
   "execution_count": 1,
   "metadata": {},
   "outputs": [],
   "source": [
    "import json"
   ]
  },
  {
   "cell_type": "code",
   "execution_count": 2,
   "metadata": {},
   "outputs": [],
   "source": [
    "f = '/home/suchitg/Desktop/gpt4_chess_conversation.jsonl'\n",
    "with open(f) as json_file:\n",
    "    json_list = list(json_file)"
   ]
  },
  {
   "cell_type": "code",
   "execution_count": 3,
   "metadata": {},
   "outputs": [
    {
     "data": {
      "text/plain": [
       "('Describe the opening used in the given game.\\n1. d4 d5 2. c4 e6',\n",
       " \"The opening used is the Queen's Gambit.\")"
      ]
     },
     "execution_count": 3,
     "metadata": {},
     "output_type": "execute_result"
    }
   ],
   "source": [
    "json.loads(json_list[0])['conversations'][0]['text'], json.loads(json_list[0])['conversations'][1]['text']"
   ]
  },
  {
   "cell_type": "code",
   "execution_count": 4,
   "metadata": {},
   "outputs": [],
   "source": [
    "def append_one_conv(human, assistant, output):\n",
    "    output = output.append(f\"<s>[INST] {human} [/INST] {assistant} </s>\")\n",
    "    return output\n",
    "\n",
    "def generate_llama_convs(jsonl_file: str, op_jsonl_file: str):\n",
    "    with open(jsonl_file, 'r') as f:\n",
    "        jsons = list(f)\n",
    "    \n",
    "    op = []\n",
    "    for conv in jsons:\n",
    "        human_input = json.loads(conv)['conversations'][0]['text']\n",
    "        assistant_output = json.loads(conv)['conversations'][1]['text']\n",
    "        append_one_conv(human_input, assistant_output, op)\n",
    "\n",
    "    with open(op_jsonl_file, 'w') as op_f:\n",
    "        for item in op:\n",
    "            item = item.replace('\"', '\\\\\"').replace('\\n', '\\\\n')\n",
    "            op_f.write(f\"{{\\\"text\\\": \\\"{item}\\\"}}\" + '\\n')"
   ]
  },
  {
   "cell_type": "code",
   "execution_count": 5,
   "metadata": {},
   "outputs": [],
   "source": [
    "generate_llama_convs('/home/suchitg/Desktop/gpt4_chess_conversation.jsonl', './finetune_convs.jsonl')"
   ]
  },
  {
   "cell_type": "code",
   "execution_count": null,
   "metadata": {},
   "outputs": [],
   "source": []
  }
 ],
 "metadata": {
  "kernelspec": {
   "display_name": "base",
   "language": "python",
   "name": "python3"
  },
  "language_info": {
   "codemirror_mode": {
    "name": "ipython",
    "version": 3
   },
   "file_extension": ".py",
   "mimetype": "text/x-python",
   "name": "python",
   "nbconvert_exporter": "python",
   "pygments_lexer": "ipython3",
   "version": "3.10.13"
  }
 },
 "nbformat": 4,
 "nbformat_minor": 2
}
